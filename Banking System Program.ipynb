{
 "cells": [
  {
   "cell_type": "code",
   "execution_count": 1,
   "id": "cf6abc46-f791-461f-a2fa-673ab5ea1f41",
   "metadata": {},
   "outputs": [
    {
     "name": "stdout",
     "output_type": "stream",
     "text": [
      "WELCOME TO THE WORLD BANK!\n",
      "\n",
      "1.Signup \n",
      "2.Login \n",
      "3.Exit\n"
     ]
    },
    {
     "name": "stdout",
     "output_type": "stream",
     "text": [
      "Choice:  1\n",
      "Name:  Krishna Singh\n",
      "Password:  pass1\n",
      "Address:  Lucknow\n"
     ]
    },
    {
     "name": "stdout",
     "output_type": "stream",
     "text": [
      "Your ID: 4d854cdd\n",
      "WELCOME TO THE WORLD BANK!\n",
      "\n",
      "1.Signup \n",
      "2.Login \n",
      "3.Exit\n"
     ]
    },
    {
     "name": "stdout",
     "output_type": "stream",
     "text": [
      "Choice:  1\n",
      "Name:  Harsh Kumar Singh\n",
      "Password:  pass2\n",
      "Address:  Varanasi\n"
     ]
    },
    {
     "name": "stdout",
     "output_type": "stream",
     "text": [
      "Your ID: e5c6e464\n",
      "WELCOME TO THE WORLD BANK!\n",
      "\n",
      "1.Signup \n",
      "2.Login \n",
      "3.Exit\n"
     ]
    },
    {
     "name": "stdout",
     "output_type": "stream",
     "text": [
      "Choice:  1\n",
      "Name:  Parv Maheshwari\n",
      "Password:  pass3\n",
      "Address:  Delhi\n"
     ]
    },
    {
     "name": "stdout",
     "output_type": "stream",
     "text": [
      "Your ID: 369beeb7\n",
      "WELCOME TO THE WORLD BANK!\n",
      "\n",
      "1.Signup \n",
      "2.Login \n",
      "3.Exit\n"
     ]
    },
    {
     "name": "stdout",
     "output_type": "stream",
     "text": [
      "Choice:  2\n",
      "ID:  4d854cdd\n",
      "Password:  pass1\n"
     ]
    },
    {
     "name": "stdout",
     "output_type": "stream",
     "text": [
      "Welcome, Krishna Singh\n",
      "\n",
      "1.Create Account \n",
      "2.Deposit \n",
      "3.Withdraw \n",
      "4.Transfer \n",
      "5.My Account \n",
      "6.Interest \n",
      "7.Logout\n"
     ]
    },
    {
     "name": "stdout",
     "output_type": "stream",
     "text": [
      ">>  1\n",
      "Type (Savings/Checking):  savings\n",
      "Amount:  5000\n",
      "Rate/Limit:  2\n"
     ]
    },
    {
     "name": "stdout",
     "output_type": "stream",
     "text": [
      "Account created: e9f59eff\n",
      "\n",
      "1.Create Account \n",
      "2.Deposit \n",
      "3.Withdraw \n",
      "4.Transfer \n",
      "5.My Account \n",
      "6.Interest \n",
      "7.Logout\n"
     ]
    },
    {
     "name": "stdout",
     "output_type": "stream",
     "text": [
      ">>  5\n"
     ]
    },
    {
     "name": "stdout",
     "output_type": "stream",
     "text": [
      "Acc No: e9f59eff, Bal: 5000.00, Interest: 2.0%\n",
      "\n",
      "1.Create Account \n",
      "2.Deposit \n",
      "3.Withdraw \n",
      "4.Transfer \n",
      "5.My Account \n",
      "6.Interest \n",
      "7.Logout\n"
     ]
    },
    {
     "name": "stdout",
     "output_type": "stream",
     "text": [
      ">>  2\n",
      "Account ID:  e9f59eff\n",
      "Amount:  1000\n"
     ]
    },
    {
     "name": "stdout",
     "output_type": "stream",
     "text": [
      "Success\n",
      "\n",
      "1.Create Account \n",
      "2.Deposit \n",
      "3.Withdraw \n",
      "4.Transfer \n",
      "5.My Account \n",
      "6.Interest \n",
      "7.Logout\n"
     ]
    },
    {
     "name": "stdout",
     "output_type": "stream",
     "text": [
      ">>  5\n"
     ]
    },
    {
     "name": "stdout",
     "output_type": "stream",
     "text": [
      "Acc No: e9f59eff, Bal: 6000.00, Interest: 2.0%\n",
      "\n",
      "1.Create Account \n",
      "2.Deposit \n",
      "3.Withdraw \n",
      "4.Transfer \n",
      "5.My Account \n",
      "6.Interest \n",
      "7.Logout\n"
     ]
    },
    {
     "name": "stdout",
     "output_type": "stream",
     "text": [
      ">>  3\n",
      "Account ID:  e9f59eff\n",
      "Amount:  1000\n"
     ]
    },
    {
     "name": "stdout",
     "output_type": "stream",
     "text": [
      "Success\n",
      "\n",
      "1.Create Account \n",
      "2.Deposit \n",
      "3.Withdraw \n",
      "4.Transfer \n",
      "5.My Account \n",
      "6.Interest \n",
      "7.Logout\n"
     ]
    },
    {
     "name": "stdout",
     "output_type": "stream",
     "text": [
      ">>  5\n"
     ]
    },
    {
     "name": "stdout",
     "output_type": "stream",
     "text": [
      "Acc No: e9f59eff, Bal: 5000.00, Interest: 2.0%\n",
      "\n",
      "1.Create Account \n",
      "2.Deposit \n",
      "3.Withdraw \n",
      "4.Transfer \n",
      "5.My Account \n",
      "6.Interest \n",
      "7.Logout\n"
     ]
    },
    {
     "name": "stdout",
     "output_type": "stream",
     "text": [
      ">>  6\n"
     ]
    },
    {
     "name": "stdout",
     "output_type": "stream",
     "text": [
      "Applied interest.\n",
      "Acc No: e9f59eff, Bal: 5100.00, Interest: 2.0%\n",
      "\n",
      "1.Create Account \n",
      "2.Deposit \n",
      "3.Withdraw \n",
      "4.Transfer \n",
      "5.My Account \n",
      "6.Interest \n",
      "7.Logout\n"
     ]
    },
    {
     "name": "stdout",
     "output_type": "stream",
     "text": [
      ">>  7\n"
     ]
    },
    {
     "name": "stdout",
     "output_type": "stream",
     "text": [
      "WELCOME TO THE WORLD BANK!\n",
      "\n",
      "1.Signup \n",
      "2.Login \n",
      "3.Exit\n"
     ]
    },
    {
     "name": "stdout",
     "output_type": "stream",
     "text": [
      "Choice:  2\n",
      "ID:  e5c6e464\n",
      "Password:  pass2\n"
     ]
    },
    {
     "name": "stdout",
     "output_type": "stream",
     "text": [
      "Welcome, Harsh Kumar Singh\n",
      "\n",
      "1.Create Account \n",
      "2.Deposit \n",
      "3.Withdraw \n",
      "4.Transfer \n",
      "5.My Account \n",
      "6.Interest \n",
      "7.Logout\n"
     ]
    },
    {
     "name": "stdout",
     "output_type": "stream",
     "text": [
      ">>  1\n",
      "Type (Savings/Checking):  savings\n",
      "Amount:  6000\n",
      "Rate/Limit:  2\n"
     ]
    },
    {
     "name": "stdout",
     "output_type": "stream",
     "text": [
      "Account created: 4cfb63d7\n",
      "\n",
      "1.Create Account \n",
      "2.Deposit \n",
      "3.Withdraw \n",
      "4.Transfer \n",
      "5.My Account \n",
      "6.Interest \n",
      "7.Logout\n"
     ]
    },
    {
     "name": "stdout",
     "output_type": "stream",
     "text": [
      ">>  5\n"
     ]
    },
    {
     "name": "stdout",
     "output_type": "stream",
     "text": [
      "Acc No: 4cfb63d7, Bal: 6000.00, Interest: 2.0%\n",
      "\n",
      "1.Create Account \n",
      "2.Deposit \n",
      "3.Withdraw \n",
      "4.Transfer \n",
      "5.My Account \n",
      "6.Interest \n",
      "7.Logout\n"
     ]
    },
    {
     "name": "stdout",
     "output_type": "stream",
     "text": [
      ">>  2\n",
      "Account ID:  4cfb63d7\n",
      "Amount:  1000\n"
     ]
    },
    {
     "name": "stdout",
     "output_type": "stream",
     "text": [
      "Success\n",
      "\n",
      "1.Create Account \n",
      "2.Deposit \n",
      "3.Withdraw \n",
      "4.Transfer \n",
      "5.My Account \n",
      "6.Interest \n",
      "7.Logout\n"
     ]
    },
    {
     "name": "stdout",
     "output_type": "stream",
     "text": [
      ">>  5\n"
     ]
    },
    {
     "name": "stdout",
     "output_type": "stream",
     "text": [
      "Acc No: 4cfb63d7, Bal: 7000.00, Interest: 2.0%\n",
      "\n",
      "1.Create Account \n",
      "2.Deposit \n",
      "3.Withdraw \n",
      "4.Transfer \n",
      "5.My Account \n",
      "6.Interest \n",
      "7.Logout\n"
     ]
    },
    {
     "name": "stdout",
     "output_type": "stream",
     "text": [
      ">>  3\n",
      "Account ID:  4cfb63d7\n",
      "Amount:  1000\n"
     ]
    },
    {
     "name": "stdout",
     "output_type": "stream",
     "text": [
      "Success\n",
      "\n",
      "1.Create Account \n",
      "2.Deposit \n",
      "3.Withdraw \n",
      "4.Transfer \n",
      "5.My Account \n",
      "6.Interest \n",
      "7.Logout\n"
     ]
    },
    {
     "name": "stdout",
     "output_type": "stream",
     "text": [
      ">>  5\n"
     ]
    },
    {
     "name": "stdout",
     "output_type": "stream",
     "text": [
      "Acc No: 4cfb63d7, Bal: 6000.00, Interest: 2.0%\n",
      "\n",
      "1.Create Account \n",
      "2.Deposit \n",
      "3.Withdraw \n",
      "4.Transfer \n",
      "5.My Account \n",
      "6.Interest \n",
      "7.Logout\n"
     ]
    },
    {
     "name": "stdout",
     "output_type": "stream",
     "text": [
      ">>  4\n",
      "From Account:  4cfb63d7\n",
      "To Account:  e9f59eff\n",
      "Amount:  1000\n"
     ]
    },
    {
     "name": "stdout",
     "output_type": "stream",
     "text": [
      "Before transfer:\n",
      "From (4cfb63d7) balance: 6000.0\n",
      "To   (e9f59eff) balance: 5100.0\n",
      "After transfer:\n",
      "From (4cfb63d7) balance: 5000.0\n",
      "To   (e9f59eff) balance: 6100.0\n",
      "Success\n",
      "\n",
      "1.Create Account \n",
      "2.Deposit \n",
      "3.Withdraw \n",
      "4.Transfer \n",
      "5.My Account \n",
      "6.Interest \n",
      "7.Logout\n"
     ]
    },
    {
     "name": "stdout",
     "output_type": "stream",
     "text": [
      ">>  7\n"
     ]
    },
    {
     "name": "stdout",
     "output_type": "stream",
     "text": [
      "WELCOME TO THE WORLD BANK!\n",
      "\n",
      "1.Signup \n",
      "2.Login \n",
      "3.Exit\n"
     ]
    },
    {
     "name": "stdout",
     "output_type": "stream",
     "text": [
      "Choice:  2\n",
      "ID:  369beeb7\n",
      "Password:  pass3\n"
     ]
    },
    {
     "name": "stdout",
     "output_type": "stream",
     "text": [
      "Welcome, Parv Maheshwari\n",
      "\n",
      "1.Create Account \n",
      "2.Deposit \n",
      "3.Withdraw \n",
      "4.Transfer \n",
      "5.My Account \n",
      "6.Interest \n",
      "7.Logout\n"
     ]
    },
    {
     "name": "stdout",
     "output_type": "stream",
     "text": [
      ">>  1\n",
      "Type (Savings/Checking):  savings\n",
      "Amount:  9000\n",
      "Rate/Limit:  2\n"
     ]
    },
    {
     "name": "stdout",
     "output_type": "stream",
     "text": [
      "Account created: 54755372\n",
      "\n",
      "1.Create Account \n",
      "2.Deposit \n",
      "3.Withdraw \n",
      "4.Transfer \n",
      "5.My Account \n",
      "6.Interest \n",
      "7.Logout\n"
     ]
    },
    {
     "name": "stdout",
     "output_type": "stream",
     "text": [
      ">>  5\n"
     ]
    },
    {
     "name": "stdout",
     "output_type": "stream",
     "text": [
      "Acc No: 54755372, Bal: 9000.00, Interest: 2.0%\n",
      "\n",
      "1.Create Account \n",
      "2.Deposit \n",
      "3.Withdraw \n",
      "4.Transfer \n",
      "5.My Account \n",
      "6.Interest \n",
      "7.Logout\n"
     ]
    },
    {
     "name": "stdout",
     "output_type": "stream",
     "text": [
      ">>  2\n",
      "Account ID:  54755372\n",
      "Amount:  1000\n"
     ]
    },
    {
     "name": "stdout",
     "output_type": "stream",
     "text": [
      "Success\n",
      "\n",
      "1.Create Account \n",
      "2.Deposit \n",
      "3.Withdraw \n",
      "4.Transfer \n",
      "5.My Account \n",
      "6.Interest \n",
      "7.Logout\n"
     ]
    },
    {
     "name": "stdout",
     "output_type": "stream",
     "text": [
      ">>  5\n"
     ]
    },
    {
     "name": "stdout",
     "output_type": "stream",
     "text": [
      "Acc No: 54755372, Bal: 10000.00, Interest: 2.0%\n",
      "\n",
      "1.Create Account \n",
      "2.Deposit \n",
      "3.Withdraw \n",
      "4.Transfer \n",
      "5.My Account \n",
      "6.Interest \n",
      "7.Logout\n"
     ]
    },
    {
     "name": "stdout",
     "output_type": "stream",
     "text": [
      ">>  4\n",
      "From Account:  54755372\n",
      "To Account:  e9f59eff\n",
      "Amount:  1000\n"
     ]
    },
    {
     "name": "stdout",
     "output_type": "stream",
     "text": [
      "Before transfer:\n",
      "From (54755372) balance: 10000.0\n",
      "To   (e9f59eff) balance: 6100.0\n",
      "After transfer:\n",
      "From (54755372) balance: 9000.0\n",
      "To   (e9f59eff) balance: 7100.0\n",
      "Success\n",
      "\n",
      "1.Create Account \n",
      "2.Deposit \n",
      "3.Withdraw \n",
      "4.Transfer \n",
      "5.My Account \n",
      "6.Interest \n",
      "7.Logout\n"
     ]
    },
    {
     "name": "stdout",
     "output_type": "stream",
     "text": [
      ">>  7\n"
     ]
    },
    {
     "name": "stdout",
     "output_type": "stream",
     "text": [
      "WELCOME TO THE WORLD BANK!\n",
      "\n",
      "1.Signup \n",
      "2.Login \n",
      "3.Exit\n"
     ]
    },
    {
     "name": "stdout",
     "output_type": "stream",
     "text": [
      "Choice:  3\n"
     ]
    }
   ],
   "source": [
    "import uuid\n",
    "class Account:\n",
    "    def __init__(self, acc_id,cust_id, bal=0.0):\n",
    "        self._account_number=acc_id\n",
    "        self._account_holder_id=cust_id\n",
    "        self._balance=bal\n",
    "    def deposit(self,amt):\n",
    "        if amt<=0: return False\n",
    "        self._balance+=amt\n",
    "        return True\n",
    "    def withdraw(self, amt):\n",
    "        return False\n",
    "    def display_details(self):\n",
    "        return f\"Acc No: {self._account_number}, Bal: {self._balance:.2f}\"\n",
    "\n",
    "class SavingsAccount(Account):\n",
    "    def __init__(self,acc_id,cust_id,bal=0.0,rate=0.01):\n",
    "        super().__init__(acc_id, cust_id, bal)\n",
    "        self._interest_rate=rate\n",
    "    def withdraw(self, amt):\n",
    "        if 0<amt<=self._balance:\n",
    "            self._balance-=amt\n",
    "            return True\n",
    "        return False\n",
    "    def apply_interest(self):\n",
    "        interest=self._balance*(self._interest_rate/100)\n",
    "        self._balance+=interest\n",
    "    def display_details(self):\n",
    "        return super().display_details() + f\", Interest: {self._interest_rate}%\"\n",
    "\n",
    "class CheckingAccount(Account):\n",
    "    def __init__(self,acc_id,cust_id,bal=0.0,limit=0.0):\n",
    "        super().__init__(acc_id, cust_id,bal)\n",
    "        self._overdraft_limit =limit\n",
    "    def withdraw(self, amt):\n",
    "        if self._balance - amt >= -self._overdraft_limit:\n",
    "            self._balance -= amt\n",
    "            return True\n",
    "        return False\n",
    "    def display_details(self):\n",
    "        return super().display_details() + f\", Overdraft: {self._overdraft_limit}\"\n",
    "\n",
    "class Customer:\n",
    "    def __init__(self, cid, name, pwd, addr):\n",
    "        self._id = cid\n",
    "        self._name = name\n",
    "        self._password = pwd\n",
    "        self._address = addr\n",
    "        self._accounts = []\n",
    "    def add_account(self, acc_id):\n",
    "        self._accounts.append(acc_id)\n",
    "    def display(self):\n",
    "        return f\"ID: {self._id}, Name: {self._name}, Addr: {self._address}, Accounts: {len(self._accounts)}\"\n",
    "\n",
    "class Bank:\n",
    "    def __init__(self):\n",
    "        self.customers = {}\n",
    "        self.accounts = {}\n",
    "        self.load()\n",
    "    def save(self):\n",
    "        with open(\"bank_data.txt\", \"w\") as f:\n",
    "            for cid, c in self.customers.items():\n",
    "                f.write(f\"C|{cid}|{c._name}|{c._password}|{c._address}|{','.join(c._accounts)}\\n\")\n",
    "            for aid, a in self.accounts.items():\n",
    "                if isinstance(a, SavingsAccount):\n",
    "                    f.write(f\"S|{aid}|{a._account_holder_id}|{a._balance}|{a._interest_rate}\\n\")\n",
    "                elif isinstance(a, CheckingAccount):\n",
    "                    f.write(f\"K|{aid}|{a._account_holder_id}|{a._balance}|{a._overdraft_limit}\\n\")\n",
    "    def load(self):\n",
    "        try:\n",
    "            with open(\"bank_data.txt\") as f:\n",
    "                for line in f:\n",
    "                    parts = line.strip().split(\"|\")\n",
    "                    if parts[0] == \"C\":\n",
    "                        cid, name, pwd, addr, accs = parts[1:]\n",
    "                        cust = Customer(cid, name, pwd, addr)\n",
    "                        cust._accounts = accs.split(\",\") if accs else []\n",
    "                        self.customers[cid] = cust\n",
    "                    elif parts[0] == \"S\":\n",
    "                        aid, cid, bal, rate = parts[1:]\n",
    "                        self.accounts[aid] = SavingsAccount(aid, cid, float(bal), float(rate))\n",
    "                    elif parts[0] == \"K\":\n",
    "                        aid, cid, bal, limit = parts[1:]\n",
    "                        self.accounts[aid] = CheckingAccount(aid, cid, float(bal), float(limit))\n",
    "        except:\n",
    "            pass\n",
    "    def login(self, cid, pwd):\n",
    "        return self.customers.get(cid) if self.customers.get(cid) and self.customers[cid]._password == pwd else None\n",
    "    def add_customer(self, name, pwd, addr):\n",
    "        cid = str(uuid.uuid4())[:8]\n",
    "        self.customers[cid] = Customer(cid, name, pwd, addr)\n",
    "        self.save()\n",
    "        return cid\n",
    "    def create_account(self, cid, acc_type, amt=0.0, extra=0.01):\n",
    "        aid = str(uuid.uuid4())[:8]\n",
    "        if acc_type.lower().startswith('s'): \n",
    "            self.accounts[aid] = SavingsAccount(aid, cid, amt, extra)\n",
    "        else:\n",
    "            self.accounts[aid] = CheckingAccount(aid, cid, amt, extra)\n",
    "        self.customers[cid].add_account(aid)\n",
    "        self.save()\n",
    "        return aid\n",
    "    def deposit(self, aid, amt):\n",
    "        ok = self.accounts[aid].deposit(amt)\n",
    "        if ok: self.save()\n",
    "        return ok\n",
    "    def withdraw(self, aid, amt):\n",
    "        ok = self.accounts[aid].withdraw(amt)\n",
    "        if ok: self.save()\n",
    "        return ok\n",
    "    def transfer(self, from_aid, to_aid, amt):\n",
    "        if from_aid not in self.accounts or to_aid not in self.accounts:\n",
    "            print(\"Invalid account ID(s).\")\n",
    "            return False\n",
    "        print(f\"Before transfer:\")\n",
    "        print(f\"From ({from_aid}) balance: {self.accounts[from_aid]._balance}\")\n",
    "        print(f\"To   ({to_aid}) balance: {self.accounts[to_aid]._balance}\")\n",
    "        if self.withdraw(from_aid, amt):\n",
    "            if self.deposit(to_aid, amt):\n",
    "                self.save()\n",
    "                print(f\"After transfer:\")\n",
    "                print(f\"From ({from_aid}) balance: {self.accounts[from_aid]._balance}\")\n",
    "                print(f\"To   ({to_aid}) balance: {self.accounts[to_aid]._balance}\")\n",
    "                return True\n",
    "            else:\n",
    "                self.deposit(from_aid, amt)\n",
    "        return False\n",
    "    def apply_interest_all(self):\n",
    "        for acc in self.accounts.values():\n",
    "            if isinstance(acc, SavingsAccount):\n",
    "                acc.apply_interest()\n",
    "        self.save()\n",
    "    def get_accounts(self, cid):\n",
    "        return [self.accounts[aid] for aid in self.customers[cid]._accounts]\n",
    "def main():\n",
    "    bank = Bank()\n",
    "    while True:\n",
    "        print(\"WELCOME TO THE WORLD BANK!\")\n",
    "        print(\"\\n1.Signup \\n2.Login \\n3.Exit\")\n",
    "        ch = input(\"Choice: \")\n",
    "        if ch == '1':\n",
    "            cid = bank.add_customer(input(\"Name: \"), input(\"Password: \"), input(\"Address: \"))\n",
    "            print(\"Your ID:\", cid)\n",
    "        elif ch == '2':\n",
    "            cid = input(\"ID: \")\n",
    "            pwd = input(\"Password: \")\n",
    "            user = bank.login(cid, pwd)\n",
    "            if user:\n",
    "                print(\"Welcome,\", user._name)\n",
    "                while True:\n",
    "                    print(\"\\n1.Create Account \\n2.Deposit \\n3.Withdraw \\n4.Transfer \\n5.My Account \\n6.Interest \\n7.Logout\")\n",
    "                    c = input(\">> \")\n",
    "                    if c == '1':\n",
    "                        t = input(\"Type (Savings/Checking): \")\n",
    "                        a = float(input(\"Amount: \"))\n",
    "                        x = float(input(\"Rate/Limit: \"))\n",
    "                        aid = bank.create_account(cid, t, a, x)\n",
    "                        print(\"Account created:\", aid)\n",
    "                    elif c == '2':\n",
    "                        aid = input(\"Account ID: \")\n",
    "                        amt = float(input(\"Amount: \"))\n",
    "                        print(\"Success\" if bank.deposit(aid, amt) else \"Fail\")\n",
    "                    elif c == '3':\n",
    "                        aid = input(\"Account ID: \")\n",
    "                        amt = float(input(\"Amount: \"))\n",
    "                        print(\"Success\" if bank.withdraw(aid, amt) else \"Fail\")\n",
    "                    elif c == '4':\n",
    "                        f = input(\"From Account: \")\n",
    "                        t = input(\"To Account: \")\n",
    "                        amt = float(input(\"Amount: \"))\n",
    "                        print(\"Success\" if bank.transfer(f, t, amt) else \"Fail\")\n",
    "                    elif c == '5':\n",
    "                        for a in bank.get_accounts(cid):\n",
    "                            print(a.display_details())\n",
    "                    elif c == '6':\n",
    "                        bank.apply_interest_all()\n",
    "                        print(\"Applied interest.\")\n",
    "                        for a in bank.get_accounts(cid):\n",
    "                            print(a.display_details())\n",
    "                    elif c == '7':\n",
    "                        break\n",
    "            else:\n",
    "                print(\"Login failed.\")\n",
    "        else:\n",
    "            break\n",
    "main()"
   ]
  }
 ],
 "metadata": {
  "kernelspec": {
   "display_name": "Python 3 (ipykernel)",
   "language": "python",
   "name": "python3"
  },
  "language_info": {
   "codemirror_mode": {
    "name": "ipython",
    "version": 3
   },
   "file_extension": ".py",
   "mimetype": "text/x-python",
   "name": "python",
   "nbconvert_exporter": "python",
   "pygments_lexer": "ipython3",
   "version": "3.13.1"
  }
 },
 "nbformat": 4,
 "nbformat_minor": 5
}
